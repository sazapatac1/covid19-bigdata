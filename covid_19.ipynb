{
  "nbformat": 4,
  "nbformat_minor": 0,
  "metadata": {
    "colab": {
      "name": "covid-19.ipynb",
      "provenance": [],
      "collapsed_sections": [],
      "authorship_tag": "ABX9TyP+C9jMLQW4rR8ftWGVIu6p",
      "include_colab_link": true
    },
    "kernelspec": {
      "name": "python3",
      "display_name": "Python 3"
    }
  },
  "cells": [
    {
      "cell_type": "markdown",
      "metadata": {
        "id": "view-in-github",
        "colab_type": "text"
      },
      "source": [
        "<a href=\"https://colab.research.google.com/github/sazapatac1/covid19-bigdata/blob/master/covid_19.ipynb\" target=\"_parent\"><img src=\"https://colab.research.google.com/assets/colab-badge.svg\" alt=\"Open In Colab\"/></a>"
      ]
    },
    {
      "cell_type": "markdown",
      "metadata": {
        "id": "z0bGnX-dBKzd",
        "colab_type": "text"
      },
      "source": [
        "# Proyecto 3 - Covid19"
      ]
    },
    {
      "cell_type": "code",
      "metadata": {
        "id": "avek-0fFBVRa",
        "colab_type": "code",
        "colab": {}
      },
      "source": [
        "!apt-get install openjdk-8-jdk-headless -qq > /dev/null\n",
        "!wget -q https://downloads.apache.org/spark/spark-2.4.5/spark-2.4.5-bin-hadoop2.6.tgz\n",
        "!tar xf spark-2.4.5-bin-hadoop2.6.tgz\n",
        "!pip install -q findspark"
      ],
      "execution_count": 0,
      "outputs": []
    },
    {
      "cell_type": "code",
      "metadata": {
        "id": "1fvGbGZPCPSB",
        "colab_type": "code",
        "colab": {}
      },
      "source": [
        "import os\n",
        "os.environ[\"JAVA_HOME\"] = \"/usr/lib/jvm/java-8-openjdk-amd64\"\n",
        "os.environ[\"SPARK_HOME\"] = \"/content/spark-2.4.5-bin-hadoop2.6\"\n",
        "import matplotlib.pyplot as plt\n",
        "import pandas as pd\n",
        "import findspark\n",
        "findspark.init()\n",
        "from pyspark.sql import SparkSession\n",
        "spark = SparkSession.builder.master(\"local[*]\").getOrCreate()\n",
        "sc = spark.sparkContext"
      ],
      "execution_count": 0,
      "outputs": []
    },
    {
      "cell_type": "code",
      "metadata": {
        "id": "mC-Jdx8sTRaz",
        "colab_type": "code",
        "colab": {
          "base_uri": "https://localhost:8080/",
          "height": 578
        },
        "outputId": "a5b3d222-0a48-45f4-beec-b737cc410ef6"
      },
      "source": [
        "!wget https://raw.githubusercontent.com/sazapatac1/covid19-bigdata/master/datasets/Casos_positivos_de_COVID-19_en_Colombia.csv\n",
        "!wget https://raw.githubusercontent.com/sazapatac1/covid19-bigdata/master/datasets/time_series_covid19_confirmed_global_narrow.csv\n",
        "!wget https://raw.githubusercontent.com/sazapatac1/covid19-bigdata/master/datasets/time_series_covid19_deaths_global_narrow.csv\n",
        "!wget https://raw.githubusercontent.com/sazapatac1/covid19-bigdata/master/datasets/time_series_covid19_recovered_global_narrow.csv"
      ],
      "execution_count": 4,
      "outputs": [
        {
          "output_type": "stream",
          "text": [
            "--2020-05-17 15:46:43--  https://raw.githubusercontent.com/sazapatac1/covid19-bigdata/master/datasets/Casos_positivos_de_COVID-19_en_Colombia.csv\n",
            "Resolving raw.githubusercontent.com (raw.githubusercontent.com)... 151.101.0.133, 151.101.64.133, 151.101.128.133, ...\n",
            "Connecting to raw.githubusercontent.com (raw.githubusercontent.com)|151.101.0.133|:443... connected.\n",
            "HTTP request sent, awaiting response... 200 OK\n",
            "Length: 2421869 (2.3M) [text/plain]\n",
            "Saving to: ‘Casos_positivos_de_COVID-19_en_Colombia.csv’\n",
            "\n",
            "Casos_positivos_de_ 100%[===================>]   2.31M  --.-KB/s    in 0.08s   \n",
            "\n",
            "2020-05-17 15:46:44 (30.6 MB/s) - ‘Casos_positivos_de_COVID-19_en_Colombia.csv’ saved [2421869/2421869]\n",
            "\n",
            "--2020-05-17 15:46:45--  https://raw.githubusercontent.com/sazapatac1/covid19-bigdata/master/datasets/time_series_covid19_confirmed_global_narrow.csv\n",
            "Resolving raw.githubusercontent.com (raw.githubusercontent.com)... 151.101.0.133, 151.101.64.133, 151.101.128.133, ...\n",
            "Connecting to raw.githubusercontent.com (raw.githubusercontent.com)|151.101.0.133|:443... connected.\n",
            "HTTP request sent, awaiting response... 200 OK\n",
            "Length: 1688248 (1.6M) [text/plain]\n",
            "Saving to: ‘time_series_covid19_confirmed_global_narrow.csv’\n",
            "\n",
            "time_series_covid19 100%[===================>]   1.61M  --.-KB/s    in 0.06s   \n",
            "\n",
            "2020-05-17 15:46:46 (27.0 MB/s) - ‘time_series_covid19_confirmed_global_narrow.csv’ saved [1688248/1688248]\n",
            "\n",
            "--2020-05-17 15:46:47--  https://raw.githubusercontent.com/sazapatac1/covid19-bigdata/master/datasets/time_series_covid19_deaths_global_narrow.csv\n",
            "Resolving raw.githubusercontent.com (raw.githubusercontent.com)... 151.101.0.133, 151.101.64.133, 151.101.128.133, ...\n",
            "Connecting to raw.githubusercontent.com (raw.githubusercontent.com)|151.101.0.133|:443... connected.\n",
            "HTTP request sent, awaiting response... 200 OK\n",
            "Length: 1663456 (1.6M) [text/plain]\n",
            "Saving to: ‘time_series_covid19_deaths_global_narrow.csv’\n",
            "\n",
            "time_series_covid19 100%[===================>]   1.59M  --.-KB/s    in 0.03s   \n",
            "\n",
            "2020-05-17 15:46:48 (56.4 MB/s) - ‘time_series_covid19_deaths_global_narrow.csv’ saved [1663456/1663456]\n",
            "\n"
          ],
          "name": "stdout"
        }
      ]
    },
    {
      "cell_type": "markdown",
      "metadata": {
        "id": "cl-DethzqEiG",
        "colab_type": "text"
      },
      "source": [
        "# Ingesta y Almacenamiento de datos"
      ]
    },
    {
      "cell_type": "code",
      "metadata": {
        "id": "1fecCMQ-TJQl",
        "colab_type": "code",
        "colab": {}
      },
      "source": [
        "# Load csv Dataset \n",
        "dfColombia=spark.read.csv('Casos_positivos_de_COVID-19_en_Colombia.csv',inferSchema=True,header=True)\n",
        "dfGlobalConfirmed=spark.read.csv('time_series_covid19_confirmed_global_narrow.csv',inferSchema=True,header=True)\n",
        "dfGlobalDeath=spark.read.csv('time_series_covid19_deaths_global_narrow.csv',inferSchema=True,header=True)\n",
        "dfGlobalRecovered=spark.read.csv('time_series_covid19_recovered_global_narrow.csv',inferSchema=True,header=True)"
      ],
      "execution_count": 0,
      "outputs": []
    },
    {
      "cell_type": "markdown",
      "metadata": {
        "id": "7chIXPGcqJrb",
        "colab_type": "text"
      },
      "source": [
        "# Procesamiento: Análisis exploratorio de datos con pyspark"
      ]
    },
    {
      "cell_type": "markdown",
      "metadata": {
        "id": "a30NGf3oR42y",
        "colab_type": "text"
      },
      "source": [
        "**Exploratiorio en Colombia**"
      ]
    },
    {
      "cell_type": "code",
      "metadata": {
        "id": "oGVfS0hmTUHB",
        "colab_type": "code",
        "outputId": "f540b554-947a-4eec-c351-303e72d96c51",
        "colab": {
          "base_uri": "https://localhost:8080/",
          "height": 289
        }
      },
      "source": [
        "dfColombia.columns"
      ],
      "execution_count": 0,
      "outputs": [
        {
          "output_type": "execute_result",
          "data": {
            "text/plain": [
              "['ID de caso',\n",
              " 'Fecha de notificación',\n",
              " 'Codigo DIVIPOLA',\n",
              " 'Ciudad de ubicación',\n",
              " 'Departamento o Distrito ',\n",
              " 'atención',\n",
              " 'Edad',\n",
              " 'Sexo',\n",
              " 'Tipo',\n",
              " 'Estado',\n",
              " 'País de procedencia',\n",
              " 'FIS',\n",
              " 'Fecha de muerte',\n",
              " 'Fecha diagnostico',\n",
              " 'Fecha recuperado',\n",
              " 'fecha reporte web']"
            ]
          },
          "metadata": {
            "tags": []
          },
          "execution_count": 7
        }
      ]
    },
    {
      "cell_type": "code",
      "metadata": {
        "id": "_gYE-mrmsAEI",
        "colab_type": "code",
        "outputId": "43b2483a-23a1-47e8-a1b1-6b8fed9ef417",
        "colab": {
          "base_uri": "https://localhost:8080/",
          "height": 224
        }
      },
      "source": [
        "dfColombia.show(5)"
      ],
      "execution_count": 0,
      "outputs": [
        {
          "output_type": "stream",
          "text": [
            "+----------+---------------------+---------------+-------------------+------------------------+----------+----+----+-----------+----------+-------------------+--------------------+---------------+-------------------+--------------------+-------------------+\n",
            "|ID de caso|Fecha de notificación|Codigo DIVIPOLA|Ciudad de ubicación|Departamento o Distrito |  atención|Edad|Sexo|       Tipo|    Estado|País de procedencia|                 FIS|Fecha de muerte|  Fecha diagnostico|    Fecha recuperado|  fecha reporte web|\n",
            "+----------+---------------------+---------------+-------------------+------------------------+----------+----+----+-----------+----------+-------------------+--------------------+---------------+-------------------+--------------------+-------------------+\n",
            "|         1|  2020-03-02 00:00:00|          11001|        Bogotá D.C.|             Bogotá D.C.|Recuperado|  19|   F|  Importado|Recuperado|             Italia|2020-02-27T00:00:...|          -   -|2020-03-06 00:00:00|2020-03-13T00:00:...|2020-03-06 00:00:00|\n",
            "|         2|  2020-03-06 00:00:00|          76111|Guadalajara de Buga|         Valle del Cauca|Recuperado|  34|   M|  Importado|Recuperado|             España|2020-03-04T00:00:...|          -   -|2020-03-09 00:00:00|2020-03-19T00:00:...|2020-03-09 00:00:00|\n",
            "|         3|  2020-03-07 00:00:00|           5001|           Medellín|               Antioquia|Recuperado|  50|   F|  Importado|Recuperado|             España|2020-02-29T00:00:...|          -   -|2020-03-09 00:00:00|2020-03-15T00:00:...|2020-03-09 00:00:00|\n",
            "|         4|  2020-03-09 00:00:00|           5001|           Medellín|               Antioquia|Recuperado|  55|   M|Relacionado|Recuperado|           Colombia|2020-03-06T00:00:...|          -   -|2020-03-11 00:00:00|2020-03-26T00:00:...|2020-03-11 00:00:00|\n",
            "|         5|  2020-03-09 00:00:00|           5001|           Medellín|               Antioquia|Recuperado|  25|   M|Relacionado|Recuperado|           Colombia|2020-03-08T00:00:...|          -   -|2020-03-11 00:00:00|2020-03-23T00:00:...|2020-03-11 00:00:00|\n",
            "+----------+---------------------+---------------+-------------------+------------------------+----------+----+----+-----------+----------+-------------------+--------------------+---------------+-------------------+--------------------+-------------------+\n",
            "only showing top 5 rows\n",
            "\n"
          ],
          "name": "stdout"
        }
      ]
    },
    {
      "cell_type": "code",
      "metadata": {
        "id": "m2dMkNiEfjX7",
        "colab_type": "code",
        "outputId": "0275b6e1-90eb-4ce5-c86d-4f4ff5c0ad62",
        "colab": {
          "base_uri": "https://localhost:8080/",
          "height": 34
        }
      },
      "source": [
        "#Confirmed cases Colombia with national dataset\n",
        "dfColombia.count()"
      ],
      "execution_count": 0,
      "outputs": [
        {
          "output_type": "execute_result",
          "data": {
            "text/plain": [
              "12930"
            ]
          },
          "metadata": {
            "tags": []
          },
          "execution_count": 123
        }
      ]
    },
    {
      "cell_type": "code",
      "metadata": {
        "id": "Wf74ecxGr1ZA",
        "colab_type": "code",
        "outputId": "22a475d4-6de8-44f6-a3a4-38a580c53506",
        "colab": {
          "base_uri": "https://localhost:8080/",
          "height": 136
        }
      },
      "source": [
        "#Cases by gender - Colombia\n",
        "dfColombia.groupBy('Sexo').count().show()"
      ],
      "execution_count": 0,
      "outputs": [
        {
          "output_type": "stream",
          "text": [
            "+----+-----+\n",
            "|Sexo|count|\n",
            "+----+-----+\n",
            "|   F| 5637|\n",
            "|   M| 7293|\n",
            "+----+-----+\n",
            "\n"
          ],
          "name": "stdout"
        }
      ]
    },
    {
      "cell_type": "code",
      "metadata": {
        "id": "wzqaajH9sBCm",
        "colab_type": "code",
        "outputId": "02238b62-cf65-403a-be81-a81ee280ee0a",
        "colab": {
          "base_uri": "https://localhost:8080/",
          "height": 680
        }
      },
      "source": [
        "#Cases by state - Colombia\n",
        "dfColombia.groupBy('Departamento o Distrito ').count().orderBy('count',ascending=False).show(34)"
      ],
      "execution_count": 0,
      "outputs": [
        {
          "output_type": "stream",
          "text": [
            "+------------------------+-----+\n",
            "|Departamento o Distrito |count|\n",
            "+------------------------+-----+\n",
            "|             Bogotá D.C.| 4685|\n",
            "|         Valle del Cauca| 1393|\n",
            "|                    Meta|  938|\n",
            "|     Cartagena D.T. y C.|  874|\n",
            "|                Amazonas|  871|\n",
            "|               Atlántico|  641|\n",
            "|       Barranquilla D.E.|  627|\n",
            "|               Antioquia|  491|\n",
            "|                  Nariño|  338|\n",
            "|            Cundinamarca|  311|\n",
            "|               Risaralda|  233|\n",
            "|    Santa Marta D.T. ...|  205|\n",
            "|                   Huila|  187|\n",
            "|                  Tolima|  134|\n",
            "|               Magdalena|  117|\n",
            "|                  Caldas|  104|\n",
            "|      Norte de Santander|  104|\n",
            "|                  Boyacá|   87|\n",
            "|       Buenaventura D.E.|   85|\n",
            "|                 Quindio|   78|\n",
            "|                   Cesar|   72|\n",
            "|                 Bolívar|   62|\n",
            "|                   Cauca|   54|\n",
            "|                 Córdoba|   42|\n",
            "|               Santander|   42|\n",
            "|                   Chocó|   40|\n",
            "|              La Guajira|   32|\n",
            "|                Casanare|   25|\n",
            "|    Archipiélago de S...|   21|\n",
            "|                 Caquetá|   19|\n",
            "|                  Vaupés|   11|\n",
            "|                   Sucre|    4|\n",
            "|                Putumayo|    2|\n",
            "|                  Arauca|    1|\n",
            "+------------------------+-----+\n",
            "\n"
          ],
          "name": "stdout"
        }
      ]
    },
    {
      "cell_type": "code",
      "metadata": {
        "id": "XrtPDdG0S8WG",
        "colab_type": "code",
        "outputId": "44daa533-2ef7-4643-c4e4-8133ce5d9aa0",
        "colab": {
          "base_uri": "https://localhost:8080/",
          "height": 697
        }
      },
      "source": [
        "#Cases by town - Colombia\n",
        "dfColombia.groupBy('Ciudad de ubicación').count().orderBy('count',ascending=False).show(34)"
      ],
      "execution_count": 0,
      "outputs": [
        {
          "output_type": "stream",
          "text": [
            "+--------------------+-----+\n",
            "| Ciudad de ubicación|count|\n",
            "+--------------------+-----+\n",
            "|         Bogotá D.C.| 4685|\n",
            "|                Cali| 1173|\n",
            "|       Villavicencio|  911|\n",
            "| Cartagena de Indias|  874|\n",
            "|             Leticia|  870|\n",
            "|        Barranquilla|  627|\n",
            "|             Soledad|  402|\n",
            "|            Medellín|  319|\n",
            "|         Santa Marta|  205|\n",
            "|             Pereira|  163|\n",
            "|San Andrés de Tumaco|  160|\n",
            "|              Ibagué|  120|\n",
            "|             Ipiales|  107|\n",
            "|               Neiva|  107|\n",
            "|              Soacha|  102|\n",
            "|             Malambo|   91|\n",
            "|        Buenaventura|   85|\n",
            "|              Cúcuta|   79|\n",
            "|        Dosquebradas|   65|\n",
            "|             Ciénaga|   63|\n",
            "|        Sabanagrande|   57|\n",
            "|           La Dorada|   54|\n",
            "|             Armenia|   54|\n",
            "|             Palmira|   53|\n",
            "|          Valledupar|   52|\n",
            "|               Bello|   50|\n",
            "|               Pasto|   44|\n",
            "|               Chocó|   40|\n",
            "|         Puebloviejo|   39|\n",
            "|                Chía|   31|\n",
            "|             Jamundí|   29|\n",
            "|             Turbaco|   27|\n",
            "|            Envigado|   26|\n",
            "|               Yumbo|   26|\n",
            "+--------------------+-----+\n",
            "only showing top 34 rows\n",
            "\n"
          ],
          "name": "stdout"
        }
      ]
    },
    {
      "cell_type": "code",
      "metadata": {
        "id": "Gq5gJNphshh1",
        "colab_type": "code",
        "outputId": "f8ec983c-114b-412c-b0b4-4bc7c825e5fe",
        "colab": {
          "base_uri": "https://localhost:8080/",
          "height": 255
        }
      },
      "source": [
        "#Cases by condition\n",
        "#Currently infected - Colombia\n",
        "\n",
        "dfColombia.groupBy('Estado').count().show()\n",
        "print(\"Infected:\")\n",
        "dfColombia.filter((dfColombia['Estado']=='Grave')|(dfColombia['Estado'] == 'Leve')|(dfColombia['Estado'] == 'Asintomático')|(dfColombia['Estado'] == 'Moderado')).count()"
      ],
      "execution_count": 0,
      "outputs": [
        {
          "output_type": "stream",
          "text": [
            "+------------+-----+\n",
            "|      Estado|count|\n",
            "+------------+-----+\n",
            "|        null|   10|\n",
            "|   Fallecido|  508|\n",
            "|    Moderado|  696|\n",
            "|Asintomático| 1423|\n",
            "|  Recuperado| 3133|\n",
            "|        Leve| 7030|\n",
            "|       Grave|  130|\n",
            "+------------+-----+\n",
            "\n",
            "Infected:\n"
          ],
          "name": "stdout"
        },
        {
          "output_type": "execute_result",
          "data": {
            "text/plain": [
              "9279"
            ]
          },
          "metadata": {
            "tags": []
          },
          "execution_count": 23
        }
      ]
    },
    {
      "cell_type": "code",
      "metadata": {
        "id": "F7-Ltvv-1jpd",
        "colab_type": "code",
        "outputId": "12ca1c89-d69f-4680-b088-99b1e96a8930",
        "colab": {
          "base_uri": "https://localhost:8080/",
          "height": 459
        }
      },
      "source": [
        "#Condition by age - Colombia\n",
        "dfColombia.groupBy('Edad','Estado').count().orderBy('Edad', ascending=True).show()"
      ],
      "execution_count": 0,
      "outputs": [
        {
          "output_type": "stream",
          "text": [
            "+----+------------+-----+\n",
            "|Edad|      Estado|count|\n",
            "+----+------------+-----+\n",
            "|   0|   Fallecido|    3|\n",
            "|   0|       Grave|    5|\n",
            "|   0|  Recuperado|   13|\n",
            "|   0|        Leve|   38|\n",
            "|   0|    Moderado|   20|\n",
            "|   0|Asintomático|    3|\n",
            "|   0|        null|    1|\n",
            "|   1|  Recuperado|   13|\n",
            "|   1|Asintomático|    5|\n",
            "|   1|        Leve|   37|\n",
            "|   1|    Moderado|    2|\n",
            "|   2|  Recuperado|   11|\n",
            "|   2|    Moderado|    4|\n",
            "|   2|        Leve|   28|\n",
            "|   2|Asintomático|    8|\n",
            "|   3|    Moderado|    3|\n",
            "|   3|  Recuperado|    9|\n",
            "|   3|       Grave|    1|\n",
            "|   3|        Leve|   30|\n",
            "|   3|   Fallecido|    2|\n",
            "+----+------------+-----+\n",
            "only showing top 20 rows\n",
            "\n"
          ],
          "name": "stdout"
        }
      ]
    },
    {
      "cell_type": "code",
      "metadata": {
        "id": "ruCichi2-OYm",
        "colab_type": "code",
        "outputId": "4b83a030-fa7d-4db6-f494-aa95b0d54965",
        "colab": {
          "base_uri": "https://localhost:8080/",
          "height": 153
        }
      },
      "source": [
        "#Cases by type - Colombia\n",
        "dfColombia.groupBy('Tipo').count().show()"
      ],
      "execution_count": 0,
      "outputs": [
        {
          "output_type": "stream",
          "text": [
            "+-----------+-----+\n",
            "|       Tipo|count|\n",
            "+-----------+-----+\n",
            "|Relacionado| 3859|\n",
            "|  Importado|  840|\n",
            "| En Estudio| 8231|\n",
            "+-----------+-----+\n",
            "\n"
          ],
          "name": "stdout"
        }
      ]
    },
    {
      "cell_type": "code",
      "metadata": {
        "id": "dFbgh6Pq_p9m",
        "colab_type": "code",
        "outputId": "98eea198-959f-4739-f0a8-a0ff633c657d",
        "colab": {
          "base_uri": "https://localhost:8080/",
          "height": 204
        }
      },
      "source": [
        "#Cases by atention - Colombia\n",
        "dfColombia.groupBy('atención').count().show()"
      ],
      "execution_count": 0,
      "outputs": [
        {
          "output_type": "stream",
          "text": [
            "+------------+-----+\n",
            "|    atención|count|\n",
            "+------------+-----+\n",
            "|Hospital UCI|  131|\n",
            "|   Fallecido|  509|\n",
            "|        Casa| 8449|\n",
            "|    Hospital|  698|\n",
            "|         N/A|   10|\n",
            "|  Recuperado| 3133|\n",
            "+------------+-----+\n",
            "\n"
          ],
          "name": "stdout"
        }
      ]
    },
    {
      "cell_type": "code",
      "metadata": {
        "id": "MrO0UM4c_4-v",
        "colab_type": "code",
        "outputId": "ab8764ee-7845-414e-bfa2-58f8da64f53e",
        "colab": {
          "base_uri": "https://localhost:8080/",
          "height": 459
        }
      },
      "source": [
        "# Cases by origin country - Colombia\n",
        "dfColombia.groupBy('País de procedencia').count().orderBy('count', ascending=False).show()"
      ],
      "execution_count": 0,
      "outputs": [
        {
          "output_type": "stream",
          "text": [
            "+--------------------+-----+\n",
            "| País de procedencia|count|\n",
            "+--------------------+-----+\n",
            "|            Colombia|12084|\n",
            "|              España|  259|\n",
            "|Estados Unidos de...|  217|\n",
            "|             Ecuador|   50|\n",
            "|              México|   49|\n",
            "|              Brasil|   37|\n",
            "|              Panamá|   34|\n",
            "|             Turquía|   28|\n",
            "|             Francia|   16|\n",
            "|             Jamaica|   16|\n",
            "|         Reino Unido|   14|\n",
            "|         Puerto Rico|   13|\n",
            "|                Perú|   12|\n",
            "|              Egipto|   11|\n",
            "|            Alemania|   10|\n",
            "|República Dominicana|   10|\n",
            "|              Italia|    9|\n",
            "|San Martín (Francia)|    7|\n",
            "|              Israel|    6|\n",
            "|           Venezuela|    4|\n",
            "+--------------------+-----+\n",
            "only showing top 20 rows\n",
            "\n"
          ],
          "name": "stdout"
        }
      ]
    },
    {
      "cell_type": "markdown",
      "metadata": {
        "id": "j_AZRoljR9Te",
        "colab_type": "text"
      },
      "source": [
        "**Exploratorio a nivel mundial**"
      ]
    },
    {
      "cell_type": "code",
      "metadata": {
        "id": "FOhgd0NsSEIY",
        "colab_type": "code",
        "outputId": "31301151-9bb7-4e9f-806a-d8b82c081004",
        "colab": {
          "base_uri": "https://localhost:8080/",
          "height": 187
        }
      },
      "source": [
        "#Global dataset\n",
        "\n",
        "#cast value column to int\n",
        "dfGlobalConfirmed = dfGlobalConfirmed.withColumn(\"Value\", dfGlobalConfirmed[\"Value\"].cast(\"int\"))\n",
        "dfGlobalDeath = dfGlobalDeath.withColumn(\"Value\", dfGlobalDeath[\"Value\"].cast(\"int\"))\n",
        "dfGlobalRecovered = dfGlobalRecovered.withColumn(\"Value\", dfGlobalRecovered[\"Value\"].cast(\"int\"))\n",
        "dfGlobalConfirmed.columns"
      ],
      "execution_count": 43,
      "outputs": [
        {
          "output_type": "execute_result",
          "data": {
            "text/plain": [
              "['Province/State',\n",
              " 'Country/Region',\n",
              " 'Lat',\n",
              " 'Long',\n",
              " 'Date',\n",
              " 'Value',\n",
              " 'ISO 3166-1 Alpha 3-Codes',\n",
              " 'Region Code',\n",
              " 'Sub-region Code',\n",
              " 'Intermediate Region Code']"
            ]
          },
          "metadata": {
            "tags": []
          },
          "execution_count": 43
        }
      ]
    },
    {
      "cell_type": "code",
      "metadata": {
        "id": "kiW55AywSIGv",
        "colab_type": "code",
        "outputId": "44b3f4c6-575d-432a-a822-2128194621f9",
        "colab": {
          "base_uri": "https://localhost:8080/",
          "height": 204
        }
      },
      "source": [
        "dfGlobalConfirmed.show(5)"
      ],
      "execution_count": 44,
      "outputs": [
        {
          "output_type": "stream",
          "text": [
            "+--------------+--------------+--------+--------+----------+-----+------------------------+-----------------+----------------+------------------------+\n",
            "|Province/State|Country/Region|     Lat|    Long|      Date|Value|ISO 3166-1 Alpha 3-Codes|      Region Code| Sub-region Code|Intermediate Region Code|\n",
            "+--------------+--------------+--------+--------+----------+-----+------------------------+-----------------+----------------+------------------------+\n",
            "|    #adm1+name| #country+name|#geo+lat|#geo+lon|     #date| null|           #country+code|#region+main+code|#region+sub+code|    #region+intermedi...|\n",
            "|          null|   Afghanistan|    33.0|    65.0|2020-05-13| 5226|                     AFG|              142|              34|                    null|\n",
            "|          null|   Afghanistan|    33.0|    65.0|2020-05-12| 4963|                     AFG|              142|              34|                    null|\n",
            "|          null|   Afghanistan|    33.0|    65.0|2020-05-11| 4687|                     AFG|              142|              34|                    null|\n",
            "|          null|   Afghanistan|    33.0|    65.0|2020-05-10| 4402|                     AFG|              142|              34|                    null|\n",
            "+--------------+--------------+--------+--------+----------+-----+------------------------+-----------------+----------------+------------------------+\n",
            "only showing top 5 rows\n",
            "\n"
          ],
          "name": "stdout"
        }
      ]
    },
    {
      "cell_type": "code",
      "metadata": {
        "id": "74aBC9z2SaZh",
        "colab_type": "code",
        "outputId": "fed2e88a-ec2c-4d06-867c-2cf5de44d647",
        "colab": {
          "base_uri": "https://localhost:8080/",
          "height": 204
        }
      },
      "source": [
        "dfGlobalRecovered.show(5)"
      ],
      "execution_count": 45,
      "outputs": [
        {
          "output_type": "stream",
          "text": [
            "+--------------+--------------+--------+--------+----------+-----+------------------------+-----------------+----------------+------------------------+\n",
            "|Province/State|Country/Region|     Lat|    Long|      Date|Value|ISO 3166-1 Alpha 3-Codes|      Region Code| Sub-region Code|Intermediate Region Code|\n",
            "+--------------+--------------+--------+--------+----------+-----+------------------------+-----------------+----------------+------------------------+\n",
            "|    #adm1+name| #country+name|#geo+lat|#geo+lon|     #date| null|           #country+code|#region+main+code|#region+sub+code|    #region+intermedi...|\n",
            "|          null|   Afghanistan|    33.0|    65.0|2020-05-13|  648|                     AFG|              142|              34|                    null|\n",
            "|          null|   Afghanistan|    33.0|    65.0|2020-05-12|  610|                     AFG|              142|              34|                    null|\n",
            "|          null|   Afghanistan|    33.0|    65.0|2020-05-11|  558|                     AFG|              142|              34|                    null|\n",
            "|          null|   Afghanistan|    33.0|    65.0|2020-05-10|  558|                     AFG|              142|              34|                    null|\n",
            "+--------------+--------------+--------+--------+----------+-----+------------------------+-----------------+----------------+------------------------+\n",
            "only showing top 5 rows\n",
            "\n"
          ],
          "name": "stdout"
        }
      ]
    },
    {
      "cell_type": "code",
      "metadata": {
        "id": "ThASDmh4Sm1f",
        "colab_type": "code",
        "outputId": "54f986bf-81cf-42dd-bd0f-4f714e9fc928",
        "colab": {
          "base_uri": "https://localhost:8080/",
          "height": 204
        }
      },
      "source": [
        "dfGlobalDeath.show(5)"
      ],
      "execution_count": 47,
      "outputs": [
        {
          "output_type": "stream",
          "text": [
            "+--------------+--------------+--------+--------+----------+-----+------------------------+-----------------+----------------+------------------------+\n",
            "|Province/State|Country/Region|     Lat|    Long|      Date|Value|ISO 3166-1 Alpha 3-Codes|      Region Code| Sub-region Code|Intermediate Region Code|\n",
            "+--------------+--------------+--------+--------+----------+-----+------------------------+-----------------+----------------+------------------------+\n",
            "|    #adm1+name| #country+name|#geo+lat|#geo+lon|     #date| null|           #country+code|#region+main+code|#region+sub+code|    #region+intermedi...|\n",
            "|          null|   Afghanistan|    33.0|    65.0|2020-05-13|  132|                     AFG|              142|              34|                    null|\n",
            "|          null|   Afghanistan|    33.0|    65.0|2020-05-12|  127|                     AFG|              142|              34|                    null|\n",
            "|          null|   Afghanistan|    33.0|    65.0|2020-05-11|  122|                     AFG|              142|              34|                    null|\n",
            "|          null|   Afghanistan|    33.0|    65.0|2020-05-10|  120|                     AFG|              142|              34|                    null|\n",
            "+--------------+--------------+--------+--------+----------+-----+------------------------+-----------------+----------------+------------------------+\n",
            "only showing top 5 rows\n",
            "\n"
          ],
          "name": "stdout"
        }
      ]
    },
    {
      "cell_type": "code",
      "metadata": {
        "id": "lyuap-MzSMNg",
        "colab_type": "code",
        "outputId": "ce78c0db-5d91-4237-8e94-8ce17b3aad58",
        "colab": {
          "base_uri": "https://localhost:8080/",
          "height": 153
        }
      },
      "source": [
        "#Confirmed cases Colombia with global dataset\n",
        "print('Confirmed cases Colombia with global dataset')\n",
        "dfGlobalConfirmed.filter(dfGlobalConfirmed['Country/Region']=='Colombia').select('Country/Region', 'Value').show(1)"
      ],
      "execution_count": 48,
      "outputs": [
        {
          "output_type": "stream",
          "text": [
            "Confirmed cases Colombia with global dataset\n",
            "+--------------+-----+\n",
            "|Country/Region|Value|\n",
            "+--------------+-----+\n",
            "|      Colombia|12930|\n",
            "+--------------+-----+\n",
            "only showing top 1 row\n",
            "\n"
          ],
          "name": "stdout"
        }
      ]
    },
    {
      "cell_type": "code",
      "metadata": {
        "id": "SdIIjUlFPsns",
        "colab_type": "code",
        "outputId": "4d3906b2-8547-473f-8c21-81af505bc42f",
        "colab": {
          "base_uri": "https://localhost:8080/",
          "height": 153
        }
      },
      "source": [
        "#Death cases Colombia with global dataset\n",
        "print('Death cases Colombia with global dataset')\n",
        "dfGlobalDeath.filter(dfGlobalDeath['Country/Region']=='Colombia').select('Country/Region', 'Value').show(1)"
      ],
      "execution_count": 49,
      "outputs": [
        {
          "output_type": "stream",
          "text": [
            "Death cases Colombia with global dataset\n",
            "+--------------+-----+\n",
            "|Country/Region|Value|\n",
            "+--------------+-----+\n",
            "|      Colombia|  509|\n",
            "+--------------+-----+\n",
            "only showing top 1 row\n",
            "\n"
          ],
          "name": "stdout"
        }
      ]
    },
    {
      "cell_type": "code",
      "metadata": {
        "id": "JGVroiqiPyne",
        "colab_type": "code",
        "outputId": "7e9a9994-a616-4903-ecf2-7c9011eb9031",
        "colab": {
          "base_uri": "https://localhost:8080/",
          "height": 153
        }
      },
      "source": [
        "#Recovered cases Colombia with global dataset\n",
        "print('Recovered cases Colombia with global dataset')\n",
        "dfGlobalRecovered.filter(dfGlobalRecovered['Country/Region']=='Colombia').select('Country/Region', 'Value').show(1)"
      ],
      "execution_count": 50,
      "outputs": [
        {
          "output_type": "stream",
          "text": [
            "Recovered cases Colombia with global dataset\n",
            "+--------------+-----+\n",
            "|Country/Region|Value|\n",
            "+--------------+-----+\n",
            "|      Colombia| 3133|\n",
            "+--------------+-----+\n",
            "only showing top 1 row\n",
            "\n"
          ],
          "name": "stdout"
        }
      ]
    },
    {
      "cell_type": "code",
      "metadata": {
        "id": "TRyrwQ4eU_fg",
        "colab_type": "code",
        "outputId": "4138d7a2-e1bf-43ce-98a9-c73ca0a652a9",
        "colab": {
          "base_uri": "https://localhost:8080/",
          "height": 459
        }
      },
      "source": [
        "#Last day dataset infected\n",
        "dfGlobalConfirmed.filter(dfGlobalConfirmed['Date'] == '2020-05-13').orderBy('Value', ascending=False).show()"
      ],
      "execution_count": 65,
      "outputs": [
        {
          "output_type": "stream",
          "text": [
            "+--------------+--------------+--------+-------------------+----------+-------+------------------------+-----------+---------------+------------------------+\n",
            "|Province/State|Country/Region|     Lat|               Long|      Date|  Value|ISO 3166-1 Alpha 3-Codes|Region Code|Sub-region Code|Intermediate Region Code|\n",
            "+--------------+--------------+--------+-------------------+----------+-------+------------------------+-----------+---------------+------------------------+\n",
            "|          null|            US| 37.0902|           -95.7129|2020-05-13|1390406|                     USA|         19|             21|                    null|\n",
            "|          null|        Russia|    60.0|               90.0|2020-05-13| 242271|                     RUS|        150|            151|                    null|\n",
            "|          null|United Kingdom| 55.3781|-3.4360000000000004|2020-05-13| 229705|                     GBR|        150|            154|                    null|\n",
            "|          null|         Spain|    40.0|               -4.0|2020-05-13| 228691|                     ESP|        150|             39|                    null|\n",
            "|          null|         Italy|    43.0|               12.0|2020-05-13| 222104|                     ITA|        150|             39|                    null|\n",
            "|          null|        Brazil| -14.235|           -51.9253|2020-05-13| 190137|                     BRA|         19|            419|                       5|\n",
            "|          null|        France| 46.2276|             2.2137|2020-05-13| 175981|                     FRA|        150|            155|                    null|\n",
            "|          null|       Germany|    51.0|                9.0|2020-05-13| 174098|                     DEU|        150|            155|                    null|\n",
            "|          null|        Turkey| 38.9637|            35.2433|2020-05-13| 143114|                     TUR|        142|            145|                    null|\n",
            "|          null|          Iran|    32.0|               53.0|2020-05-13| 112725|                     IRN|        142|             34|                    null|\n",
            "|          null|         India|    21.0|               78.0|2020-05-13|  78055|                     IND|        142|             34|                    null|\n",
            "|          null|          Peru|   -9.19|           -75.0152|2020-05-13|  76306|                     PER|         19|            419|                       5|\n",
            "|         Hubei|         China| 30.9756|           112.2707|2020-05-13|  68134|                     CHN|        142|             30|                    null|\n",
            "|          null|       Belgium| 50.8333|                4.0|2020-05-13|  53981|                     BEL|        150|            155|                    null|\n",
            "|          null|  Saudi Arabia|    24.0|               45.0|2020-05-13|  44830|                     SAU|        142|            145|                    null|\n",
            "|          null|   Netherlands| 52.1326|             5.2913|2020-05-13|  43211|                     NLD|        150|            155|                    null|\n",
            "|          null|        Mexico| 23.6345|          -102.5528|2020-05-13|  40186|                     MEX|         19|            419|                      13|\n",
            "|        Quebec|        Canada| 52.9399|           -73.5491|2020-05-13|  39940|                     CAN|         19|             21|                    null|\n",
            "|          null|      Pakistan| 30.3753|            69.3451|2020-05-13|  35298|                     PAK|        142|             34|                    null|\n",
            "|          null|         Chile|-35.6751|            -71.543|2020-05-13|  34381|                     CHL|         19|            419|                       5|\n",
            "+--------------+--------------+--------+-------------------+----------+-------+------------------------+-----------+---------------+------------------------+\n",
            "only showing top 20 rows\n",
            "\n"
          ],
          "name": "stdout"
        }
      ]
    },
    {
      "cell_type": "code",
      "metadata": {
        "id": "355HXhoYQldV",
        "colab_type": "code",
        "outputId": "b1903b77-0860-42e6-e284-4ba8241303b3",
        "colab": {
          "base_uri": "https://localhost:8080/",
          "height": 459
        }
      },
      "source": [
        "#Last day dataset deaths\n",
        "dfGlobalDeath.filter(dfGlobalDeath['Date'] == '2020-05-13').orderBy('Value', ascending=False).show()"
      ],
      "execution_count": 52,
      "outputs": [
        {
          "output_type": "stream",
          "text": [
            "+--------------+--------------+-------+-------------------+----------+-----+------------------------+-----------+---------------+------------------------+\n",
            "|Province/State|Country/Region|    Lat|               Long|      Date|Value|ISO 3166-1 Alpha 3-Codes|Region Code|Sub-region Code|Intermediate Region Code|\n",
            "+--------------+--------------+-------+-------------------+----------+-----+------------------------+-----------+---------------+------------------------+\n",
            "|          null|            US|37.0902|           -95.7129|2020-05-13|84119|                     USA|         19|             21|                    null|\n",
            "|          null|United Kingdom|55.3781|-3.4360000000000004|2020-05-13|33186|                     GBR|        150|            154|                    null|\n",
            "|          null|         Italy|   43.0|               12.0|2020-05-13|31106|                     ITA|        150|             39|                    null|\n",
            "|          null|         Spain|   40.0|               -4.0|2020-05-13|27104|                     ESP|        150|             39|                    null|\n",
            "|          null|        France|46.2276|             2.2137|2020-05-13|27032|                     FRA|        150|            155|                    null|\n",
            "|          null|        Brazil|-14.235|           -51.9253|2020-05-13|13240|                     BRA|         19|            419|                       5|\n",
            "|          null|       Belgium|50.8333|                4.0|2020-05-13| 8843|                     BEL|        150|            155|                    null|\n",
            "|          null|       Germany|   51.0|                9.0|2020-05-13| 7861|                     DEU|        150|            155|                    null|\n",
            "|          null|          Iran|   32.0|               53.0|2020-05-13| 6783|                     IRN|        142|             34|                    null|\n",
            "|          null|   Netherlands|52.1326|             5.2913|2020-05-13| 5562|                     NLD|        150|            155|                    null|\n",
            "|         Hubei|         China|30.9756|           112.2707|2020-05-13| 4512|                     CHN|        142|             30|                    null|\n",
            "|          null|        Mexico|23.6345|          -102.5528|2020-05-13| 4220|                     MEX|         19|            419|                      13|\n",
            "|          null|        Turkey|38.9637|            35.2433|2020-05-13| 3952|                     TUR|        142|            145|                    null|\n",
            "|          null|        Sweden|   63.0|               16.0|2020-05-13| 3460|                     SWE|        150|            154|                    null|\n",
            "|        Quebec|        Canada|52.9399|           -73.5491|2020-05-13| 3221|                     CAN|         19|             21|                    null|\n",
            "|          null|         India|   21.0|               78.0|2020-05-13| 2551|                     IND|        142|             34|                    null|\n",
            "|          null|       Ecuador|-1.8312|           -78.1834|2020-05-13| 2334|                     ECU|         19|            419|                       5|\n",
            "|          null|        Russia|   60.0|               90.0|2020-05-13| 2212|                     RUS|        150|            151|                    null|\n",
            "|          null|          Peru|  -9.19|           -75.0152|2020-05-13| 2169|                     PER|         19|            419|                       5|\n",
            "|       Ontario|        Canada|51.2538|           -85.3232|2020-05-13| 1883|                     CAN|         19|             21|                    null|\n",
            "+--------------+--------------+-------+-------------------+----------+-----+------------------------+-----------+---------------+------------------------+\n",
            "only showing top 20 rows\n",
            "\n"
          ],
          "name": "stdout"
        }
      ]
    },
    {
      "cell_type": "code",
      "metadata": {
        "id": "21VTDjEWcd1a",
        "colab_type": "code",
        "colab": {
          "base_uri": "https://localhost:8080/",
          "height": 459
        },
        "outputId": "de937e03-f482-4f3b-d5bd-1653820d9742"
      },
      "source": [
        "#Last day dataset Recovered\n",
        "dfGlobalRecovered.filter(dfGlobalRecovered['Date'] == '2020-05-13').orderBy('Value', ascending=False).show()"
      ],
      "execution_count": 53,
      "outputs": [
        {
          "output_type": "stream",
          "text": [
            "+--------------+--------------+--------+---------+----------+------+------------------------+-----------+---------------+------------------------+\n",
            "|Province/State|Country/Region|     Lat|     Long|      Date| Value|ISO 3166-1 Alpha 3-Codes|Region Code|Sub-region Code|Intermediate Region Code|\n",
            "+--------------+--------------+--------+---------+----------+------+------------------------+-----------+---------------+------------------------+\n",
            "|          null|            US| 37.0902| -95.7129|2020-05-13|243430|                     USA|         19|             21|                    null|\n",
            "|          null|       Germany|    51.0|      9.0|2020-05-13|148700|                     DEU|        150|            155|                    null|\n",
            "|          null|         Spain|    40.0|     -4.0|2020-05-13|140823|                     ESP|        150|             39|                    null|\n",
            "|          null|         Italy|    43.0|     12.0|2020-05-13|112541|                     ITA|        150|             39|                    null|\n",
            "|          null|        Turkey| 38.9637|  35.2433|2020-05-13|101715|                     TUR|        142|            145|                    null|\n",
            "|          null|          Iran|    32.0|     53.0|2020-05-13| 89428|                     IRN|        142|             34|                    null|\n",
            "|          null|        Brazil| -14.235| -51.9253|2020-05-13| 78424|                     BRA|         19|            419|                       5|\n",
            "|         Hubei|         China| 30.9756| 112.2707|2020-05-13| 63616|                     CHN|        142|             30|                    null|\n",
            "|          null|        France| 46.2276|   2.2137|2020-05-13| 57368|                     FRA|        150|            155|                    null|\n",
            "|          null|        Russia|    60.0|     90.0|2020-05-13| 48003|                     RUS|        150|            151|                    null|\n",
            "|          null|        Canada| 56.1304|-106.3468|2020-05-13| 35177|                     CAN|         19|             21|                    null|\n",
            "|          null|   Switzerland| 46.8182|   8.2275|2020-05-13| 27100|                     CHE|        150|            155|                    null|\n",
            "|          null|        Mexico| 23.6345|-102.5528|2020-05-13| 26990|                     MEX|         19|            419|                      13|\n",
            "|          null|         India|    21.0|     78.0|2020-05-13| 26400|                     IND|        142|             34|                    null|\n",
            "|          null|          Peru|   -9.19| -75.0152|2020-05-13| 24324|                     PER|         19|            419|                       5|\n",
            "|          null|       Ireland| 53.1424|  -7.6921|2020-05-13| 19470|                     IRL|        150|            154|                    null|\n",
            "|          null|  Saudi Arabia|    24.0|     45.0|2020-05-13| 17622|                     SAU|        142|            145|                    null|\n",
            "|          null|         Chile|-35.6751|  -71.543|2020-05-13| 14865|                     CHL|         19|            419|                       5|\n",
            "|          null|       Austria| 47.5162|  14.5501|2020-05-13| 14304|                     AUT|        150|            155|                    null|\n",
            "|          null|       Belgium| 50.8333|      4.0|2020-05-13| 13937|                     BEL|        150|            155|                    null|\n",
            "+--------------+--------------+--------+---------+----------+------+------------------------+-----------+---------------+------------------------+\n",
            "only showing top 20 rows\n",
            "\n"
          ],
          "name": "stdout"
        }
      ]
    },
    {
      "cell_type": "markdown",
      "metadata": {
        "id": "QTeHuo4uq5jm",
        "colab_type": "text"
      },
      "source": [
        "# 4 Visualización básica de datos\n"
      ]
    },
    {
      "cell_type": "markdown",
      "metadata": {
        "id": "MDuIUBKerMkW",
        "colab_type": "text"
      },
      "source": [
        "**Situación a nivel mundial**"
      ]
    },
    {
      "cell_type": "code",
      "metadata": {
        "id": "mgAAvDFd-Rgf",
        "colab_type": "code",
        "colab": {
          "base_uri": "https://localhost:8080/",
          "height": 34
        },
        "outputId": "a87802bc-2f3c-4f63-f58c-d8e19e17eb7d"
      },
      "source": [
        "LAST_DAY = dfGlobalConfirmed.groupBy('Date').count().orderBy('Date', ascending =False).toPandas()['Date'][0]\n",
        "print(LAST_DAY)"
      ],
      "execution_count": 239,
      "outputs": [
        {
          "output_type": "stream",
          "text": [
            "2020-05-13\n"
          ],
          "name": "stdout"
        }
      ]
    },
    {
      "cell_type": "code",
      "metadata": {
        "id": "QiF0-5vgc8hh",
        "colab_type": "code",
        "colab": {
          "base_uri": "https://localhost:8080/",
          "height": 422
        },
        "outputId": "30a7115e-cda1-485d-f72e-ad89913474fd"
      },
      "source": [
        "#Top 10 most infected countries\n",
        "countries = dfGlobalConfirmed.filter(dfGlobalConfirmed['Date'] == LAST_DAY).orderBy('Value', ascending=False).toPandas()[:10]\n",
        "fig = plt.figure()\n",
        "ax = fig.add_axes([0,0,1,1])\n",
        "ax.bar(countries['Country/Region'].values.tolist(),countries['Value'].values.tolist())\n",
        "ax.set_title('Top 10 most infected countries')\n",
        "plt.xticks(rotation=90)\n",
        "plt.show()"
      ],
      "execution_count": 242,
      "outputs": [
        {
          "output_type": "display_data",
          "data": {
            "image/png": "[encoded data removed]",
            "text/plain": [
              "<Figure size 432x288 with 1 Axes>"
            ]
          },
          "metadata": {
            "tags": [],
            "needs_background": "light"
          }
        }
      ]
    },
    {
      "cell_type": "code",
      "metadata": {
        "id": "2UNjEz2NduNk",
        "colab_type": "code",
        "colab": {
          "base_uri": "https://localhost:8080/",
          "height": 422
        },
        "outputId": "84cd317d-0d5c-4b94-dd52-16156cc932b2"
      },
      "source": [
        "#Top 10 most death countries\n",
        "countries = dfGlobalDeath.filter(dfGlobalDeath['Date'] ==  LAST_DAY).orderBy('Value', ascending=False).toPandas()[:10]\n",
        "fig = plt.figure()\n",
        "ax = fig.add_axes([0,0,1,1])\n",
        "ax.bar(countries['Country/Region'].values.tolist(),countries['Value'].values.tolist())\n",
        "ax.set_title('Top 10 most death countries')\n",
        "plt.xticks(rotation=90)\n",
        "plt.show()"
      ],
      "execution_count": 243,
      "outputs": [
        {
          "output_type": "display_data",
          "data": {
            "image/png": "[encoded data removed]",
            "text/plain": [
              "<Figure size 432x288 with 1 Axes>"
            ]
          },
          "metadata": {
            "tags": [],
            "needs_background": "light"
          }
        }
      ]
    },
    {
      "cell_type": "code",
      "metadata": {
        "id": "PhEqHS1Cd8Tv",
        "colab_type": "code",
        "colab": {
          "base_uri": "https://localhost:8080/",
          "height": 388
        },
        "outputId": "5ac34b8a-5805-4cd5-b435-20e3378f78cf"
      },
      "source": [
        "#Top 10 most recovered countries\n",
        "countries = dfGlobalRecovered.filter(dfGlobalRecovered['Date'] == LAST_DAY).orderBy('Value', ascending=False).toPandas()[:10]\n",
        "fig = plt.figure()\n",
        "ax = fig.add_axes([0,0,1,1])\n",
        "ax.bar(countries['Country/Region'].values.tolist(),countries['Value'].values.tolist())\n",
        "ax.set_title('Top 10 most recovered countries')\n",
        "plt.xticks(rotation=90)\n",
        "plt.show()"
      ],
      "execution_count": 244,
      "outputs": [
        {
          "output_type": "display_data",
          "data": {
            "image/png": "[encoded data removed]",
            "text/plain": [
              "<Figure size 432x288 with 1 Axes>"
            ]
          },
          "metadata": {
            "tags": [],
            "needs_background": "light"
          }
        }
      ]
    },
    {
      "cell_type": "code",
      "metadata": {
        "id": "5TL5GAv9kTjb",
        "colab_type": "code",
        "colab": {
          "base_uri": "https://localhost:8080/",
          "height": 312
        },
        "outputId": "22325dc0-3bb7-405f-918b-d2ab4fbf0130"
      },
      "source": [
        "#Confirmed cases through time\n",
        "fig, ax = plt.subplots()\n",
        "confirmedByDate = dfGlobalConfirmed.groupBy('Date').sum().orderBy('Date',ascending=True).toPandas()\n",
        "ax.set(xlabel='time (days)', ylabel='Infected',\n",
        "       title='Confirmed cases through time')\n",
        "ax.plot(confirmedByDate['Date'].values.tolist(), confirmedByDate['sum(Value)'].values.tolist())\n",
        "\n"
      ],
      "execution_count": 125,
      "outputs": [
        {
          "output_type": "execute_result",
          "data": {
            "text/plain": [
              "[<matplotlib.lines.Line2D at 0x7f0ac6665710>]"
            ]
          },
          "metadata": {
            "tags": []
          },
          "execution_count": 125
        },
        {
          "output_type": "display_data",
          "data": {
            "image/png": "[encoded data removed]",
            "text/plain": [
              "<Figure size 432x288 with 1 Axes>"
            ]
          },
          "metadata": {
            "tags": [],
            "needs_background": "light"
          }
        }
      ]
    },
    {
      "cell_type": "code",
      "metadata": {
        "id": "03omnt2Epho-",
        "colab_type": "code",
        "colab": {
          "base_uri": "https://localhost:8080/",
          "height": 312
        },
        "outputId": "65e54918-2ef7-493b-ebde-629091cdebd2"
      },
      "source": [
        "#Death cases through time\n",
        "fig, ax = plt.subplots()\n",
        "DeathsByDate = dfGlobalDeath.groupBy('Date').sum().orderBy('Date',ascending=True).toPandas()\n",
        "ax.set(xlabel='time (days)', ylabel='Deaths',\n",
        "       title='Death cases through time')\n",
        "ax.plot(DeathsByDate['Date'].values.tolist(), DeathsByDate['sum(Value)'].values.tolist())"
      ],
      "execution_count": 90,
      "outputs": [
        {
          "output_type": "execute_result",
          "data": {
            "text/plain": [
              "[<matplotlib.lines.Line2D at 0x7f0ac8b32240>]"
            ]
          },
          "metadata": {
            "tags": []
          },
          "execution_count": 90
        },
        {
          "output_type": "display_data",
          "data": {
            "image/png": "[encoded data removed]",
            "text/plain": [
              "<Figure size 432x288 with 1 Axes>"
            ]
          },
          "metadata": {
            "tags": [],
            "needs_background": "light"
          }
        }
      ]
    },
    {
      "cell_type": "code",
      "metadata": {
        "id": "OlIeg2aXqAsP",
        "colab_type": "code",
        "colab": {
          "base_uri": "https://localhost:8080/",
          "height": 312
        },
        "outputId": "64246549-cf88-440d-f175-31659e37e07e"
      },
      "source": [
        "#Recovered cases through time\n",
        "fig, ax = plt.subplots()\n",
        "RecoveredByDate = dfGlobalRecovered.groupBy('Date').sum().orderBy('Date',ascending=True).toPandas()\n",
        "ax.set(xlabel='time (days)', ylabel='Recovered',\n",
        "       title='Recovered cases through time')\n",
        "ax.plot(RecoveredByDate['Date'].values.tolist(), RecoveredByDate['sum(Value)'].values.tolist())"
      ],
      "execution_count": 106,
      "outputs": [
        {
          "output_type": "execute_result",
          "data": {
            "text/plain": [
              "[<matplotlib.lines.Line2D at 0x7f0ac7799fd0>]"
            ]
          },
          "metadata": {
            "tags": []
          },
          "execution_count": 106
        },
        {
          "output_type": "display_data",
          "data": {
            "image/png": "[encoded data removed]",
            "text/plain": [
              "<Figure size 432x288 with 1 Axes>"
            ]
          },
          "metadata": {
            "tags": [],
            "needs_background": "light"
          }
        }
      ]
    },
    {
      "cell_type": "code",
      "metadata": {
        "id": "qekBOZXAvzTf",
        "colab_type": "code",
        "colab": {
          "base_uri": "https://localhost:8080/",
          "height": 388
        },
        "outputId": "3a7b5acf-158b-43e3-c8d5-6c4f41389483"
      },
      "source": [
        "#Top 10 most infected Latin America countries\n",
        "fig,ax = plt.subplots()\n",
        "totalInfectedLatinAmericaCountries = dfGlobalConfirmed.filter((dfGlobalConfirmed['Date'] == LAST_DAY)&(dfGlobalConfirmed['Sub-region Code']== 419)).orderBy('Value',ascending=False).select('Country/Region', 'Value').toPandas()[:10]\n",
        "ax.bar(totalInfectedLatinAmericaCountries['Country/Region'].values.tolist(),totalInfectedLatinAmericaCountries['Value'].values.tolist())\n",
        "ax.set_title('Top 10 most infected Latin America countries')\n",
        "plt.xticks(rotation=90)"
      ],
      "execution_count": 279,
      "outputs": [
        {
          "output_type": "execute_result",
          "data": {
            "text/plain": [
              "([0, 1, 2, 3, 4, 5, 6, 7, 8, 9], <a list of 10 Text major ticklabel objects>)"
            ]
          },
          "metadata": {
            "tags": []
          },
          "execution_count": 279
        },
        {
          "output_type": "display_data",
          "data": {
            "image/png": "[encoded data removed]",
            "text/plain": [
              "<Figure size 432x288 with 1 Axes>"
            ]
          },
          "metadata": {
            "tags": [],
            "needs_background": "light"
          }
        }
      ]
    },
    {
      "cell_type": "code",
      "metadata": {
        "id": "PUig8KkjB3aa",
        "colab_type": "code",
        "colab": {
          "base_uri": "https://localhost:8080/",
          "height": 369
        },
        "outputId": "49563d18-4a46-4f93-f0e5-242f0f1fb724"
      },
      "source": [
        "#Top 10 most infected Europe countries\n",
        "fig,ax = plt.subplots()\n",
        "totalInfectedLatinAmericaCountries = dfGlobalConfirmed.filter((dfGlobalConfirmed['Date'] == LAST_DAY)&(dfGlobalConfirmed['Region Code']== 150)).orderBy('Value',ascending=False).select('Country/Region', 'Value').toPandas()[:10]\n",
        "ax.bar(totalInfectedLatinAmericaCountries['Country/Region'].values.tolist(),totalInfectedLatinAmericaCountries['Value'].values.tolist())\n",
        "ax.set_title('Top 10 most infected Europe countries')\n",
        "plt.xticks(rotation=90)"
      ],
      "execution_count": 278,
      "outputs": [
        {
          "output_type": "execute_result",
          "data": {
            "text/plain": [
              "([0, 1, 2, 3, 4, 5, 6, 7, 8, 9], <a list of 10 Text major ticklabel objects>)"
            ]
          },
          "metadata": {
            "tags": []
          },
          "execution_count": 278
        },
        {
          "output_type": "display_data",
          "data": {
            "image/png": "[encoded data removed]",
            "text/plain": [
              "<Figure size 432x288 with 1 Axes>"
            ]
          },
          "metadata": {
            "tags": [],
            "needs_background": "light"
          }
        }
      ]
    },
    {
      "cell_type": "code",
      "metadata": {
        "id": "t2ZgdmF4B5rk",
        "colab_type": "code",
        "colab": {
          "base_uri": "https://localhost:8080/",
          "height": 388
        },
        "outputId": "06b59b9f-c9b8-4690-d569-2f919b795784"
      },
      "source": [
        "#Top 10 most infected America countries\n",
        "fig,ax = plt.subplots()\n",
        "totalInfectedLatinAmericaCountries = dfGlobalConfirmed.filter((dfGlobalConfirmed['Date'] == LAST_DAY)&(dfGlobalConfirmed['Region Code']== 19)).orderBy('Value',ascending=False).select('Country/Region', 'Value').toPandas()[:10]\n",
        "ax.bar(totalInfectedLatinAmericaCountries['Country/Region'].values.tolist(),totalInfectedLatinAmericaCountries['Value'].values.tolist())\n",
        "ax.set_title('Top 10 most infected America countries')\n",
        "plt.xticks(rotation=90)"
      ],
      "execution_count": 277,
      "outputs": [
        {
          "output_type": "execute_result",
          "data": {
            "text/plain": [
              "([0, 1, 2, 3, 4, 5, 6, 7, 8], <a list of 9 Text major ticklabel objects>)"
            ]
          },
          "metadata": {
            "tags": []
          },
          "execution_count": 277
        },
        {
          "output_type": "display_data",
          "data": {
            "image/png": "[encoded data removed]",
            "text/plain": [
              "<Figure size 432x288 with 1 Axes>"
            ]
          },
          "metadata": {
            "tags": [],
            "needs_background": "light"
          }
        }
      ]
    },
    {
      "cell_type": "code",
      "metadata": {
        "id": "eTIHfNP8DAap",
        "colab_type": "code",
        "colab": {
          "base_uri": "https://localhost:8080/",
          "height": 395
        },
        "outputId": "21d3ccb5-f217-4596-8694-990dc2456dd0"
      },
      "source": [
        "#Top 10 most infected Asian countries\n",
        "fig,ax = plt.subplots()\n",
        "totalInfectedLatinAmericaCountries = dfGlobalConfirmed.filter((dfGlobalConfirmed['Date'] == LAST_DAY)&(dfGlobalConfirmed['Region Code']== 142)).orderBy('Value',ascending=False).select('Country/Region', 'Value').toPandas()[:10]\n",
        "ax.bar(totalInfectedLatinAmericaCountries['Country/Region'].values.tolist(),totalInfectedLatinAmericaCountries['Value'].values.tolist())\n",
        "ax.set_title('Top 10 most infected Asian countries')\n",
        "plt.xticks(rotation=90)"
      ],
      "execution_count": 276,
      "outputs": [
        {
          "output_type": "execute_result",
          "data": {
            "text/plain": [
              "([0, 1, 2, 3, 4, 5, 6, 7, 8, 9], <a list of 10 Text major ticklabel objects>)"
            ]
          },
          "metadata": {
            "tags": []
          },
          "execution_count": 276
        },
        {
          "output_type": "display_data",
          "data": {
            "image/png": "[encoded data removed]",
            "text/plain": [
              "<Figure size 432x288 with 1 Axes>"
            ]
          },
          "metadata": {
            "tags": [],
            "needs_background": "light"
          }
        }
      ]
    },
    {
      "cell_type": "markdown",
      "metadata": {
        "id": "IJrR4LsarCPS",
        "colab_type": "text"
      },
      "source": [
        "**Situación en Colombia**"
      ]
    },
    {
      "cell_type": "code",
      "metadata": {
        "id": "X6AisVSslkVy",
        "colab_type": "code",
        "outputId": "386b74bb-c00d-4d03-a387-36c4678a9854",
        "colab": {
          "base_uri": "https://localhost:8080/",
          "height": 281
        }
      },
      "source": [
        "#Infected by genre - Colombia\n",
        "def make_autopct(values):\n",
        "    def my_autopct(pct):\n",
        "        total = sum(values)\n",
        "        val = int(round(pct*total/100.0))\n",
        "        return '{p:.2f}%  ({v:d})'.format(p=pct,v=val)\n",
        "    return my_autopct\n",
        "\n",
        "fig,ax = plt.subplots()\n",
        "labels = dfColombia.groupBy('Sexo').count().toPandas()['Sexo'].values.tolist()\n",
        "values = dfColombia.groupBy('Sexo').count().toPandas()['count'].values.tolist()\n",
        "explode = (0,0)\n",
        "colors = ['pink','lightskyblue']\n",
        "ax.pie(values, explode=explode, labels=labels, colors=colors, autopct=make_autopct(values), shadow = True, startangle= 90)\n",
        "ax.axis('equal')\n",
        "ax.set_title('Infected by genre')"
      ],
      "execution_count": 171,
      "outputs": [
        {
          "output_type": "execute_result",
          "data": {
            "text/plain": [
              "Text(0.5, 1.0, 'Infected by genre')"
            ]
          },
          "metadata": {
            "tags": []
          },
          "execution_count": 171
        },
        {
          "output_type": "display_data",
          "data": {
            "image/png": "[encoded data removed]",
            "text/plain": [
              "<Figure size 432x288 with 1 Axes>"
            ]
          },
          "metadata": {
            "tags": []
          }
        }
      ]
    },
    {
      "cell_type": "code",
      "metadata": {
        "id": "bshXKfCmY-9T",
        "colab_type": "code",
        "outputId": "75314523-1f72-4bab-8a84-adc0bea31806",
        "colab": {
          "base_uri": "https://localhost:8080/",
          "height": 439
        }
      },
      "source": [
        "#Top 10 most infected states in Colombia\n",
        "states = dfColombia.groupBy('Departamento o Distrito ').count().orderBy('count',ascending=False).toPandas()[:10]\n",
        "fig = plt.figure()\n",
        "ax = fig.add_axes([0,0,1,1])\n",
        "ax.bar(states['Departamento o Distrito '].values.tolist(),states['count'].values.tolist())\n",
        "ax.set_title('Top 10 most infected states in Colombia')\n",
        "plt.xticks(rotation=90)\n",
        "plt.show()"
      ],
      "execution_count": 56,
      "outputs": [
        {
          "output_type": "display_data",
          "data": {
            "image/png": "[encoded data removed]",
            "text/plain": [
              "<Figure size 432x288 with 1 Axes>"
            ]
          },
          "metadata": {
            "tags": [],
            "needs_background": "light"
          }
        }
      ]
    },
    {
      "cell_type": "code",
      "metadata": {
        "id": "VYJ0UYWmVku0",
        "colab_type": "code",
        "outputId": "524b1a23-82a6-43d9-8c19-ee794d4020f6",
        "colab": {
          "base_uri": "https://localhost:8080/",
          "height": 281
        }
      },
      "source": [
        "#Infected by condition in Colombia\n",
        "fig,ax = plt.subplots()\n",
        "labels = ['Infected', 'Deaths', 'Recovered']\n",
        "values = []\n",
        "values.append(dfColombia.filter((dfColombia['Estado']=='Grave')|(dfColombia['Estado'] == 'Leve')|(dfColombia['Estado'] == 'Asintomático')|(dfColombia['Estado'] == 'Moderado')).count())\n",
        "values.append(dfColombia.filter(dfColombia['Estado']=='Fallecido').count())\n",
        "values.append(dfColombia.filter(dfColombia['Estado']=='Recuperado').count())\n",
        "explode = (0,0,0)\n",
        "ax.pie(values, explode=explode, labels=labels, autopct=make_autopct(values), shadow = True, startangle= 90)\n",
        "ax.axis('equal')\n",
        "ax.set_title('Infected by condition in Colombia')"
      ],
      "execution_count": 0,
      "outputs": [
        {
          "output_type": "execute_result",
          "data": {
            "text/plain": [
              "Text(0.5, 1.0, 'Infected by condition in Colombia')"
            ]
          },
          "metadata": {
            "tags": []
          },
          "execution_count": 57
        },
        {
          "output_type": "display_data",
          "data": {
            "image/png": "[encoded data removed]",
            "text/plain": [
              "<Figure size 432x288 with 1 Axes>"
            ]
          },
          "metadata": {
            "tags": []
          }
        }
      ]
    },
    {
      "cell_type": "code",
      "metadata": {
        "id": "ZbVh7MQkAt6i",
        "colab_type": "code",
        "outputId": "4ce1d619-b75a-47f6-c9c9-88a138874e38",
        "colab": {
          "base_uri": "https://localhost:8080/",
          "height": 478
        }
      },
      "source": [
        "#Top 10 origin foreign country infected in Colombia\n",
        "originCountry = dfColombia.groupBy('País de procedencia').count().orderBy('count',ascending=False).toPandas()[1:11]\n",
        "fig = plt.figure()\n",
        "ax = fig.add_axes([0,0,1,1])\n",
        "ax.bar(originCountry['País de procedencia'].values.tolist(),originCountry['count'].values.tolist())\n",
        "ax.set_title('Top 10 origin foreign country of infected in Colombia')\n",
        "plt.xticks(rotation=90)\n",
        "plt.show()\n"
      ],
      "execution_count": 146,
      "outputs": [
        {
          "output_type": "display_data",
          "data": {
            "image/png": "[encoded data removed]",
            "text/plain": [
              "<Figure size 432x288 with 1 Axes>"
            ]
          },
          "metadata": {
            "tags": [],
            "needs_background": "light"
          }
        }
      ]
    },
    {
      "cell_type": "markdown",
      "metadata": {
        "id": "a5LwbBczrUYB",
        "colab_type": "text"
      },
      "source": [
        "**Colombia vs Mundo**"
      ]
    },
    {
      "cell_type": "code",
      "metadata": {
        "id": "_oTazo8Fva6r",
        "colab_type": "code",
        "colab": {
          "base_uri": "https://localhost:8080/",
          "height": 312
        },
        "outputId": "3eb80711-f89b-4c13-9570-90b590d845ad"
      },
      "source": [
        "#Colombia vs Mundo - infected\n",
        "fig,ax = plt.subplots()\n",
        "totalInfectedColombia = dfGlobalConfirmed.filter((dfGlobalConfirmed['Date'] == LAST_DAY)&(dfGlobalConfirmed['Country/Region']=='Colombia')).select('Country/Region', 'Value').toPandas()\n",
        "totalInfected = dfGlobalConfirmed.groupBy('Date').sum().orderBy('sum(Value)', ascending=False).toPandas()\n",
        "x = ['Mundo', 'Colombia']\n",
        "y = [totalInfected['sum(Value)'][0],totalInfectedColombia['Value'][0]]\n",
        "ax.set(xlabel='Countries', ylabel='Infected',\n",
        "       title='Colombia vs Mundo')\n",
        "ax.bar(x,y)\n"
      ],
      "execution_count": 275,
      "outputs": [
        {
          "output_type": "execute_result",
          "data": {
            "text/plain": [
              "<BarContainer object of 2 artists>"
            ]
          },
          "metadata": {
            "tags": []
          },
          "execution_count": 275
        },
        {
          "output_type": "display_data",
          "data": {
            "image/png": "[encoded data removed]",
            "text/plain": [
              "<Figure size 432x288 with 1 Axes>"
            ]
          },
          "metadata": {
            "tags": [],
            "needs_background": "light"
          }
        }
      ]
    },
    {
      "cell_type": "code",
      "metadata": {
        "id": "XH0IH6d7EBeJ",
        "colab_type": "code",
        "colab": {
          "base_uri": "https://localhost:8080/",
          "height": 312
        },
        "outputId": "1132b3a6-a636-4798-d59d-5a968e5fb6c9"
      },
      "source": [
        "#Colombia vs Mundo  - deaths\n",
        "fig,ax = plt.subplots()\n",
        "totalDeathsColombia = dfGlobalDeath.filter((dfGlobalDeath['Date'] == LAST_DAY)&(dfGlobalDeath['Country/Region']=='Colombia')).select('Country/Region', 'Value').toPandas()\n",
        "totalDeaths = dfGlobalDeath.groupBy('Date').sum().orderBy('sum(Value)', ascending=False).toPandas()\n",
        "x = ['Mundo', 'Colombia']\n",
        "y = [totalDeaths['sum(Value)'][0],totalDeathsColombia['Value'][0]]\n",
        "ax.set(xlabel='Countries', ylabel='Deaths',\n",
        "       title='Colombia vs Mundo')\n",
        "ax.bar(x,y)"
      ],
      "execution_count": 296,
      "outputs": [
        {
          "output_type": "execute_result",
          "data": {
            "text/plain": [
              "<BarContainer object of 2 artists>"
            ]
          },
          "metadata": {
            "tags": []
          },
          "execution_count": 296
        },
        {
          "output_type": "display_data",
          "data": {
            "image/png": "[encoded data removed]",
            "text/plain": [
              "<Figure size 432x288 with 1 Axes>"
            ]
          },
          "metadata": {
            "tags": [],
            "needs_background": "light"
          }
        }
      ]
    },
    {
      "cell_type": "code",
      "metadata": {
        "id": "qsqAD4niEB9i",
        "colab_type": "code",
        "colab": {
          "base_uri": "https://localhost:8080/",
          "height": 312
        },
        "outputId": "2c5b25e1-3f7e-4c4c-cadb-926b42306ba5"
      },
      "source": [
        "#Colombia vs Mundo - recovered\n",
        "fig,ax = plt.subplots()\n",
        "totalRecoveredColombia = dfGlobalRecovered.filter((dfGlobalRecovered['Date'] == LAST_DAY)&(dfGlobalRecovered['Country/Region']=='Colombia')).select('Country/Region', 'Value').toPandas()\n",
        "totalRecovered = dfGlobalRecovered.groupBy('Date').sum().orderBy('sum(Value)', ascending=False).toPandas()\n",
        "x = ['Mundo', 'Colombia']\n",
        "y = [totalRecovered['sum(Value)'][0],totalRecoveredColombia['Value'][0]]\n",
        "ax.set(xlabel='Countries', ylabel='Recovered',\n",
        "       title='Colombia vs Mundo')\n",
        "ax.bar(x,y)"
      ],
      "execution_count": 304,
      "outputs": [
        {
          "output_type": "execute_result",
          "data": {
            "text/plain": [
              "<BarContainer object of 2 artists>"
            ]
          },
          "metadata": {
            "tags": []
          },
          "execution_count": 304
        },
        {
          "output_type": "display_data",
          "data": {
            "image/png": "[encoded data removed]",
            "text/plain": [
              "<Figure size 432x288 with 1 Axes>"
            ]
          },
          "metadata": {
            "tags": [],
            "needs_background": "light"
          }
        }
      ]
    },
    {
      "cell_type": "code",
      "metadata": {
        "id": "5l9ddwtZBeoO",
        "colab_type": "code",
        "colab": {}
      },
      "source": [
        ""
      ],
      "execution_count": 0,
      "outputs": []
    }
  ]
}